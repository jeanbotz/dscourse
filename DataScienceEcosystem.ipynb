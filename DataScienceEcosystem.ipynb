{
    "cells": [
        {
            "cell_type": "markdown",
            "metadata": {
                "collapsed": true
            },
            "source": "<center>\n    <img src=\"https://cf-courses-data.s3.us.cloud-object-storage.appdomain.cloud/IBMDeveloperSkillsNetwork-DS0105EN-SkillsNetwork/labs/Module2/images/SN_web_lightmode.png\" width=\"300\" alt=\"cognitiveclass.ai logo\">\n</center>\n"
        },
        {
            "cell_type": "markdown",
            "metadata": {},
            "source": "#### Add your code below following the instructions given in the course"
        },
        {
            "cell_type": "markdown",
            "metadata": {},
            "source": "#### Exercise 2: Create markdown cell with title of the notebook"
        },
        {
            "cell_type": "markdown",
            "metadata": {},
            "source": "# Data Science Tools and Ecosystem"
        },
        {
            "cell_type": "markdown",
            "metadata": {},
            "source": "#### Exercise 3 - Create a markdown cell for an introduction"
        },
        {
            "cell_type": "markdown",
            "metadata": {},
            "source": "In this notebook, Data Science Tools and Ecosystem are summarized."
        },
        {
            "cell_type": "markdown",
            "metadata": {},
            "source": "#### Exercise 4 - Create a markdown cell to list data science languages"
        },
        {
            "cell_type": "markdown",
            "metadata": {},
            "source": "Some of the popular languages that Data Scientists use are:\n\n 1. Python\n 2. R\n 3. SQL\n 4. JavaScript"
        },
        {
            "cell_type": "markdown",
            "metadata": {},
            "source": "#### Exercise 5 - Create a markdown cell to list data science libraries"
        },
        {
            "cell_type": "markdown",
            "metadata": {},
            "source": "Some of the commonly used libraries used by Data Scientists include:\n\n 1. Pandas (Data Structures & tools)\n 2. NumPy (Arrays & matrices)\n 3. Matplotlib (plots & graphs, most popular)\n 4. Seaborn (plots: heat maps, time series, violin plots)\n 5. Scikit-learn (Machine Learning: regression, classification, clustering)\n 6. TensorFlow (Deep Learning: Production and Deployment) "
        },
        {
            "cell_type": "markdown",
            "metadata": {},
            "source": "#### Exercise 6 - Create a markdown cell with a table of Data Science tools"
        },
        {
            "cell_type": "markdown",
            "metadata": {},
            "source": "| Data Science Tools |\r\n:--------------------:\r\n| Jupyter Lab |\r\n| Spyder |\r\n| RStudio |"
        },
        {
            "cell_type": "markdown",
            "metadata": {},
            "source": "#### Exercise 7 - Create a markdown cell introducing arithmetic expression examples"
        },
        {
            "cell_type": "markdown",
            "metadata": {},
            "source": "### Below are a few examples of evaluating arithmetic expressions in Python"
        },
        {
            "cell_type": "markdown",
            "metadata": {},
            "source": "#### Exercise 8 - Create a code cell to multiply and add numbers"
        },
        {
            "cell_type": "code",
            "execution_count": 3,
            "metadata": {},
            "outputs": [
                {
                    "data": {
                        "text/plain": "17"
                    },
                    "execution_count": 3,
                    "metadata": {},
                    "output_type": "execute_result"
                }
            ],
            "source": "# This a simple arithmetic expression to mutiply then add integers\n\n(3*4)+5"
        },
        {
            "cell_type": "markdown",
            "metadata": {},
            "source": "#### Exercise 9 - Create a code cell to convert minutes to hours"
        },
        {
            "cell_type": "code",
            "execution_count": 13,
            "metadata": {},
            "outputs": [
                {
                    "name": "stdout",
                    "output_type": "stream",
                    "text": "200 minutes is equal to 3 hours and 20 minutes\n"
                }
            ],
            "source": "# This will convert 200 minutes to hours by diving by 60\n\nminutes = 200 \nH_hours = minutes // 60\nH_mins = minutes % 60\nprint('200 minutes is equal to', H_hours, 'hours and', H_mins, 'minutes')"
        },
        {
            "cell_type": "markdown",
            "metadata": {},
            "source": "#### Exercise 10 - Insert a markdown cell to list Objectives"
        },
        {
            "cell_type": "markdown",
            "metadata": {},
            "source": "**Objectives:**\nIn order to be successful in Data Science, you need to be skilled with using tools that Data Science professionals employ as part of their jobs. This course teaches you about the popular tools in Data Science and how to use them.\n\nList popular languages for Data Science:\n\n - Python\n - R\n - SQL\n - JavaScript\n "
        },
        {
            "cell_type": "markdown",
            "metadata": {},
            "source": "#### Exercise 11 - Create a markdown cell to indicate the Author's name"
        },
        {
            "cell_type": "markdown",
            "metadata": {},
            "source": "## Author\nJean Christian Teixeira de Andrade"
        }
    ],
    "metadata": {
        "kernelspec": {
            "display_name": "Python 3.10",
            "language": "python",
            "name": "python3"
        },
        "language_info": {
            "codemirror_mode": {
                "name": "ipython",
                "version": 3
            },
            "file_extension": ".py",
            "mimetype": "text/x-python",
            "name": "python",
            "nbconvert_exporter": "python",
            "pygments_lexer": "ipython3",
            "version": "3.10.14"
        }
    },
    "nbformat": 4,
    "nbformat_minor": 1
}
