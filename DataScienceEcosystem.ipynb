{
    "cells": [
        {
            "cell_type": "markdown",
            "metadata": {},
            "source": "# Data Science Tools and Ecosystem"
        },
        {
            "cell_type": "markdown",
            "metadata": {},
            "source": "In this notebook, Data Science Tools and Ecosystem are summarized."
        },
        {
            "cell_type": "markdown",
            "metadata": {},
            "source": "Some of the popular languages that Data Scientists use are:\n\n 1. Python\n 2. R\n 3. SQL\n 4. JavaScript"
        },
        {
            "cell_type": "markdown",
            "metadata": {},
            "source": "Some of the commonly used libraries used by Data Scientists include:\n\n 1. Pandas (Data Structures & tools)\n 2. NumPy (Arrays & matrices)\n 3. Matplotlib (plots & graphs, most popular)\n 4. Seaborn (plots: heat maps, time series, violin plots)\n 5. Scikit-learn (Machine Learning: regression, classification, clustering)\n 6. TensorFlow (Deep Learning: Production and Deployment) "
        },
        {
            "cell_type": "markdown",
            "metadata": {},
            "source": "| Data Science Tools |\n:--------------------:\n| Jupyter Lab |\n| Spyder |\n| RStudio |"
        },
        {
            "cell_type": "markdown",
            "metadata": {},
            "source": "### Below are a few examples of evaluating arithmetic expressions in Python"
        },
        {
            "cell_type": "code",
            "execution_count": 3,
            "metadata": {},
            "outputs": [
                {
                    "data": {
                        "text/plain": "17"
                    },
                    "execution_count": 3,
                    "metadata": {},
                    "output_type": "execute_result"
                }
            ],
            "source": "# This a simple arithmetic expression to mutiply then add integers\n\n(3*4)+5"
        },
        {
            "cell_type": "code",
            "execution_count": 1,
            "metadata": {},
            "outputs": [
                {
                    "data": {
                        "text/plain": "3.3333333333333335"
                    },
                    "execution_count": 1,
                    "metadata": {},
                    "output_type": "execute_result"
                }
            ],
            "source": "# This will convert 200 minutes to hours by diving by 60\n\n200 / 60"
        },
        {
            "cell_type": "markdown",
            "metadata": {},
            "source": "**Objectives:**\nIn order to be successful in Data Science, you need to be skilled with using tools that Data Science professionals employ as part of their jobs. This course teaches you about the popular tools in Data Science and how to use them.\n\nList popular languages for Data Science:\n\n - Python\n - R\n - SQL\n - JavaScript\n "
        },
        {
            "cell_type": "markdown",
            "metadata": {},
            "source": "## Author\nJean Christian Teixeira de Andrade"
        }
    ],
    "metadata": {
        "kernelspec": {
            "display_name": "Python 3.10",
            "language": "python",
            "name": "python3"
        },
        "language_info": {
            "codemirror_mode": {
                "name": "ipython",
                "version": 3
            },
            "file_extension": ".py",
            "mimetype": "text/x-python",
            "name": "python",
            "nbconvert_exporter": "python",
            "pygments_lexer": "ipython3",
            "version": "3.10.14"
        }
    },
    "nbformat": 4,
    "nbformat_minor": 1
}